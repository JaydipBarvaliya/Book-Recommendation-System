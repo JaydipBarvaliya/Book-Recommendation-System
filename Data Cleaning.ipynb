{
 "cells": [
  {
   "cell_type": "markdown",
   "id": "77fdf318",
   "metadata": {},
   "source": [
    "# In this section data is loaded into spark dataframe and filtered data\n",
    "in this section there a data pipeline in order to extract data from json file transform it using PySpark and load it back into anothor json file."
   ]
  },
  {
   "cell_type": "markdown",
   "id": "3943b3fc",
   "metadata": {},
   "source": [
    "### Importing libraries"
   ]
  },
  {
   "cell_type": "code",
   "execution_count": 1,
   "id": "c6bfd7d4",
   "metadata": {},
   "outputs": [],
   "source": [
    "#importing the needed libraries\n",
    "import json\n",
    "import gzip\n",
    "from pyspark.sql.functions import col\n",
    "import findspark\n",
    "findspark.init()\n",
    "\n",
    "import pyspark # only run after findspark.init()\n",
    "from pyspark.sql import SparkSession\n",
    "spark = SparkSession.builder.getOrCreate()"
   ]
  },
  {
   "cell_type": "code",
   "execution_count": 2,
   "id": "42807d9f",
   "metadata": {},
   "outputs": [],
   "source": [
    "'''\n",
    "parseLine function get single row from goodreads_books data and return\n",
    "dictionary of (book id, title, number of ratings, url and cover Image)\n",
    "'''\n",
    "\n",
    "def parseLine(line):\n",
    "    data = json.loads(line)\n",
    "    return {\n",
    "        \"book_id\" : data[\"book_id\"],\n",
    "        \"title\" : data[\"title_without_series\"],\n",
    "        \"ratings\" : data[\"ratings_count\"],\n",
    "        \"url\" : data[\"url\"],\n",
    "        \"cover_image\" : data[\"image_url\"]\n",
    "    }"
   ]
  },
  {
   "cell_type": "markdown",
   "id": "8afb7927",
   "metadata": {},
   "source": [
    "### Loading goodreads_books and getting needed values"
   ]
  },
  {
   "cell_type": "code",
   "execution_count": 3,
   "id": "ff5f5393",
   "metadata": {},
   "outputs": [],
   "source": [
    "books_titles = []\n",
    "\n",
    "with gzip.open(\"goodreads_books_.json.gz\",'r') as f:\n",
    "    i = 0\n",
    "    while i < 100000:\n",
    "        i += 1\n",
    "        line = f.readline()\n",
    "        if not line:\n",
    "            break;\n",
    "            \n",
    "        fields = parseLine(line)\n",
    "        \n",
    "        try:\n",
    "            ratings = int(fields[\"ratings\"])\n",
    "        except ValueError:\n",
    "            continue\n",
    "            \n",
    "        if ratings > 5:\n",
    "            books_titles.append(fields)"
   ]
  },
  {
   "cell_type": "markdown",
   "id": "fa38aac0",
   "metadata": {},
   "source": [
    "###  Loading data into Spark Dataframe"
   ]
  },
  {
   "cell_type": "code",
   "execution_count": 4,
   "id": "59cd0a4e",
   "metadata": {},
   "outputs": [],
   "source": [
    "#creating a dataframe FROM books_titles list of dictionary in order to clean data\n",
    "df = spark.createDataFrame(books_titles)"
   ]
  },
  {
   "cell_type": "code",
   "execution_count": 5,
   "id": "be45969f",
   "metadata": {},
   "outputs": [],
   "source": [
    "#df.show()"
   ]
  },
  {
   "cell_type": "code",
   "execution_count": 6,
   "id": "465d578a",
   "metadata": {},
   "outputs": [],
   "source": [
    "#Converting Ratings column from String datatype to Integer Data type\n",
    "df = df.withColumn(\"ratings\",col(\"ratings\").cast(\"Integer\")) "
   ]
  },
  {
   "cell_type": "code",
   "execution_count": 7,
   "id": "26ddec34",
   "metadata": {},
   "outputs": [],
   "source": [
    "#df.show()"
   ]
  },
  {
   "cell_type": "markdown",
   "id": "79799811",
   "metadata": {},
   "source": [
    "### Cleaning Data"
   ]
  },
  {
   "cell_type": "code",
   "execution_count": 8,
   "id": "bd42b9b8",
   "metadata": {},
   "outputs": [],
   "source": [
    "#importing regexp_replace from pyspark to perform regular expressions\n",
    "from pyspark.sql.functions import regexp_replace,lower\n",
    "\n",
    "#removing all special chars from titles so that searching for book titles become easier and more efficient\n",
    "#removing all chars apart from  a-z, A-Z, 0-9 and ' '(space)\n",
    "df = df.withColumn(\"title\", regexp_replace(df[\"title\"], \"[^a-zA-Z0-9 ]\", \"\")); \n",
    "\n",
    "#Convering title column into lower case so can search for book titles become more efficient\n",
    "df = df.withColumn(\"title\", lower(df[\"title\"])); \n",
    "\n",
    "#replacing more than one space to single space\n",
    "df = df.withColumn(\"title\", regexp_replace(df[\"title\"], \"\\s+\", \" \")); "
   ]
  },
  {
   "cell_type": "code",
   "execution_count": 9,
   "id": "cc8179e2",
   "metadata": {
    "scrolled": true
   },
   "outputs": [],
   "source": [
    "### Filter using length of the column in pyspark\n",
    " \n",
    "    \n",
    "from pyspark.sql.functions import length\n",
    "df = df.where(length(col(\"title\")) > 0)"
   ]
  },
  {
   "cell_type": "markdown",
   "id": "05161f06",
   "metadata": {},
   "source": [
    " ###  Saving Cleaned data into Json File"
   ]
  },
  {
   "cell_type": "code",
   "execution_count": 10,
   "id": "a380686d",
   "metadata": {},
   "outputs": [],
   "source": [
    "#Storing our dataframe into Json file format by converting it into pandas DF\n",
    "pandasDF = df.toPandas()\n",
    "pandasDF.to_json(\"books_titles.json\")"
   ]
  }
 ],
 "metadata": {
  "kernelspec": {
   "display_name": "Python 3 (ipykernel)",
   "language": "python",
   "name": "python3"
  },
  "language_info": {
   "codemirror_mode": {
    "name": "ipython",
    "version": 3
   },
   "file_extension": ".py",
   "mimetype": "text/x-python",
   "name": "python",
   "nbconvert_exporter": "python",
   "pygments_lexer": "ipython3",
   "version": "3.7.6"
  }
 },
 "nbformat": 4,
 "nbformat_minor": 5
}
