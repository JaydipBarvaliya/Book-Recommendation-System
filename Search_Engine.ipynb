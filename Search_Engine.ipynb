{
 "cells": [
  {
   "cell_type": "markdown",
   "id": "77fdf318",
   "metadata": {},
   "source": [
    "# In this section data is loaded into spark dataframe and filtered data\n",
    "in this section there a data pipeline in order to extract data from json file transform it using PySpark and load it back into anothor json file."
   ]
  },
  {
   "cell_type": "markdown",
   "id": "3943b3fc",
   "metadata": {},
   "source": [
    "### Importing libraries"
   ]
  },
  {
   "cell_type": "code",
   "execution_count": 4,
   "id": "c6bfd7d4",
   "metadata": {},
   "outputs": [
    {
     "ename": "ModuleNotFoundError",
     "evalue": "No module named 'findspark'",
     "output_type": "error",
     "traceback": [
      "\u001b[1;31m---------------------------------------------------------------------------\u001b[0m",
      "\u001b[1;31mModuleNotFoundError\u001b[0m                       Traceback (most recent call last)",
      "Input \u001b[1;32mIn [4]\u001b[0m, in \u001b[0;36m<cell line: 5>\u001b[1;34m()\u001b[0m\n\u001b[0;32m      3\u001b[0m \u001b[38;5;28;01mimport\u001b[39;00m \u001b[38;5;21;01mgzip\u001b[39;00m\n\u001b[0;32m      4\u001b[0m \u001b[38;5;28;01mfrom\u001b[39;00m \u001b[38;5;21;01mpyspark\u001b[39;00m\u001b[38;5;21;01m.\u001b[39;00m\u001b[38;5;21;01msql\u001b[39;00m\u001b[38;5;21;01m.\u001b[39;00m\u001b[38;5;21;01mfunctions\u001b[39;00m \u001b[38;5;28;01mimport\u001b[39;00m col\n\u001b[1;32m----> 5\u001b[0m \u001b[38;5;28;01mimport\u001b[39;00m \u001b[38;5;21;01mfindspark\u001b[39;00m\n\u001b[0;32m      6\u001b[0m findspark\u001b[38;5;241m.\u001b[39minit()\n\u001b[0;32m      8\u001b[0m \u001b[38;5;28;01mimport\u001b[39;00m \u001b[38;5;21;01mpyspark\u001b[39;00m \u001b[38;5;66;03m# only run after findspark.init()\u001b[39;00m\n",
      "\u001b[1;31mModuleNotFoundError\u001b[0m: No module named 'findspark'"
     ]
    }
   ],
   "source": [
    "#importing the needed libraries\n",
    "import json\n",
    "import gzip\n",
    "from pyspark.sql.functions import col\n",
    "import findspark\n",
    "findspark.init()\n",
    "\n",
    "import pyspark # only run after findspark.init()\n",
    "from pyspark.sql import SparkSession\n",
    "spark = SparkSession.builder.getOrCreate()"
   ]
  },
  {
   "cell_type": "markdown",
   "id": "7c1d4496",
   "metadata": {},
   "source": [
    "## Sample of data"
   ]
  },
  {
   "cell_type": "code",
   "execution_count": 2,
   "id": "6c1d723b",
   "metadata": {},
   "outputs": [
    {
     "name": "stdout",
     "output_type": "stream",
     "text": [
      "b'{\"isbn\": \"0312853122\", \"text_reviews_count\": \"1\", \"series\": [], \"country_code\": \"US\", \"language_code\": \"\", \"popular_shelves\": [{\"count\": \"3\", \"name\": \"to-read\"}, {\"count\": \"1\", \"name\": \"p\"}, {\"count\": \"1\", \"name\": \"collection\"}, {\"count\": \"1\", \"name\": \"w-c-fields\"}, {\"count\": \"1\", \"name\": \"biography\"}], \"asin\": \"\", \"is_ebook\": \"false\", \"average_rating\": \"4.00\", \"kindle_asin\": \"\", \"similar_books\": [], \"description\": \"\", \"format\": \"Paperback\", \"link\": \"https://www.goodreads.com/book/show/5333265-w-c-fields\", \"authors\": [{\"author_id\": \"604031\", \"role\": \"\"}], \"publisher\": \"St. Martin\\'s Press\", \"num_pages\": \"256\", \"publication_day\": \"1\", \"isbn13\": \"9780312853129\", \"publication_month\": \"9\", \"edition_information\": \"\", \"publication_year\": \"1984\", \"url\": \"https://www.goodreads.com/book/show/5333265-w-c-fields\", \"image_url\": \"https://images.gr-assets.com/books/1310220028m/5333265.jpg\", \"book_id\": \"5333265\", \"ratings_count\": \"3\", \"work_id\": \"5400751\", \"title\": \"W.C. Fields: A Life on Film\", \"title_without_series\": \"W.C. Fields: A Life on Film\"}\\n'\n"
     ]
    }
   ],
   "source": [
    "with gzip.open(\"goodreads_books_.json.gz\",'r') as f:\n",
    "    print(f.readline())"
   ]
  },
  {
   "cell_type": "markdown",
   "id": "33fc06b3",
   "metadata": {},
   "source": [
    "###  Parseline Function to parse data we care about from every single line"
   ]
  },
  {
   "cell_type": "code",
   "execution_count": 3,
   "id": "42807d9f",
   "metadata": {},
   "outputs": [],
   "source": [
    "'''\n",
    "parseLine function get single row from goodreads_books data and return\n",
    "dictionary of (book id, title, number of ratings, url and cover Image)\n",
    "'''\n",
    "\n",
    "def parseLine(line):\n",
    "    data = json.loads(line)\n",
    "    return {\n",
    "        \"book_id\" : data[\"book_id\"],\n",
    "        \"title\" : data[\"title_without_series\"],\n",
    "        \"ratings\" : data[\"ratings_count\"],\n",
    "        \"url\" : data[\"url\"],\n",
    "        \"cover_image\" : data[\"image_url\"]\n",
    "    }"
   ]
  },
  {
   "cell_type": "markdown",
   "id": "8afb7927",
   "metadata": {},
   "source": [
    "### Loading goodreads_books and getting needed values"
   ]
  },
  {
   "cell_type": "code",
   "execution_count": 4,
   "id": "ff5f5393",
   "metadata": {},
   "outputs": [],
   "source": [
    "books_titles = []\n",
    "\n",
    "with gzip.open(\"goodreads_books_.json.gz\",'r') as f:\n",
    "    i = 0\n",
    "    while 100000 :\n",
    "        i += 1\n",
    "        line = f.readline()\n",
    "        if not line:\n",
    "            break;\n",
    "            \n",
    "        fields = parseLine(line)\n",
    "        \n",
    "        try:\n",
    "            ratings = int(fields[\"ratings\"])\n",
    "        except ValueError:\n",
    "            continue\n",
    "            \n",
    "        if ratings > 5:\n",
    "            books_titles.append(fields)"
   ]
  },
  {
   "cell_type": "code",
   "execution_count": 5,
   "id": "ce9f31d0",
   "metadata": {
    "scrolled": true
   },
   "outputs": [
    {
     "data": {
      "text/plain": [
       "{'book_id': '1333909',\n",
       " 'title': 'Good Harbor',\n",
       " 'ratings': '10',\n",
       " 'url': 'https://www.goodreads.com/book/show/1333909.Good_Harbor',\n",
       " 'cover_image': 'https://s.gr-assets.com/assets/nophoto/book/111x148-bcc042a9c91a29c1d680899eff700a03.png'}"
      ]
     },
     "execution_count": 5,
     "metadata": {},
     "output_type": "execute_result"
    }
   ],
   "source": [
    "books_titles[0]"
   ]
  },
  {
   "cell_type": "markdown",
   "id": "fa38aac0",
   "metadata": {},
   "source": [
    "###  Loading data into Spark Dataframe to clean it"
   ]
  },
  {
   "cell_type": "code",
   "execution_count": 6,
   "id": "59cd0a4e",
   "metadata": {},
   "outputs": [],
   "source": [
    "#creating a dataframe FROM books_titles list of dictionary in order to clean data\n",
    "df = spark.createDataFrame(books_titles)"
   ]
  },
  {
   "cell_type": "code",
   "execution_count": 7,
   "id": "be45969f",
   "metadata": {},
   "outputs": [
    {
     "data": {
      "text/plain": [
       "Row(book_id='1333909', cover_image='https://s.gr-assets.com/assets/nophoto/book/111x148-bcc042a9c91a29c1d680899eff700a03.png', ratings='10', title='Good Harbor', url='https://www.goodreads.com/book/show/1333909.Good_Harbor')"
      ]
     },
     "execution_count": 7,
     "metadata": {},
     "output_type": "execute_result"
    }
   ],
   "source": [
    "df.head()"
   ]
  },
  {
   "cell_type": "code",
   "execution_count": 8,
   "id": "465d578a",
   "metadata": {},
   "outputs": [],
   "source": [
    "#Converting Ratings column from String datatype to Integer Data type\n",
    "df = df.withColumn(\"ratings\",col(\"ratings\").cast(\"Integer\")) "
   ]
  },
  {
   "cell_type": "code",
   "execution_count": 9,
   "id": "26ddec34",
   "metadata": {},
   "outputs": [
    {
     "name": "stdout",
     "output_type": "stream",
     "text": [
      "+--------------------------------------------------------------------+\n",
      "|title                                                               |\n",
      "+--------------------------------------------------------------------+\n",
      "|Good Harbor                                                         |\n",
      "|The Unschooled Wizard (Sun Wolf and Starhawk, #1-2)                 |\n",
      "|Best Friends Forever                                                |\n",
      "|Runic Astrology: Starcraft and Timekeeping in the Northern Tradition|\n",
      "|The Aeneid for Boys and Girls                                       |\n",
      "|The Wanting of Levine                                               |\n",
      "|All's Fairy in Love and War (Avalon: Web of Magic, #8)              |\n",
      "|The Devil's Notebook                                                |\n",
      "|Crowner Royal (Crowner John Mystery, #13)                           |\n",
      "|The House of Memory (Pluto's Snitch #2)                             |\n",
      "|The Te Of Piglet                                                    |\n",
      "|Spirit Lake - Die Legende des Wendigo                               |\n",
      "|The Bonfire of the Vanities                                         |\n",
      "|90 Minutes in Heaven: A True Story of Death and Life                |\n",
      "|Heaven                                                              |\n",
      "|Penny from Heaven                                                   |\n",
      "|Dog Heaven                                                          |\n",
      "|Glimmering Light                                                    |\n",
      "|Silken Eyes                                                         |\n",
      "|The Tommyknockers                                                   |\n",
      "+--------------------------------------------------------------------+\n",
      "only showing top 20 rows\n",
      "\n"
     ]
    }
   ],
   "source": [
    "df.select('title').show(truncate=False)"
   ]
  },
  {
   "cell_type": "markdown",
   "id": "79799811",
   "metadata": {},
   "source": [
    "### Cleaning Data"
   ]
  },
  {
   "cell_type": "code",
   "execution_count": 10,
   "id": "bd42b9b8",
   "metadata": {},
   "outputs": [],
   "source": [
    "#importing regexp_replace from pyspark to perform regular expressions\n",
    "from pyspark.sql.functions import regexp_replace,lower\n",
    "\n",
    "#removing all special chars from titles so that searching for book titles become easier and more efficient\n",
    "#removing all chars apart from  a-z, A-Z, 0-9 and ' '(space)\n",
    "df = df.withColumn(\"title\", regexp_replace(df[\"title\"], \"[^a-zA-Z0-9 ]\", \"\")); \n",
    "\n",
    "#Convering title column into lower case so can search for book titles become more efficient\n",
    "df = df.withColumn(\"title\", lower(df[\"title\"])); \n",
    "\n",
    "#replacing more than one space to single space\n",
    "df = df.withColumn(\"title\", regexp_replace(df[\"title\"], \"\\s+\", \" \")); "
   ]
  },
  {
   "cell_type": "code",
   "execution_count": 11,
   "id": "233b7e1b",
   "metadata": {},
   "outputs": [
    {
     "name": "stdout",
     "output_type": "stream",
     "text": [
      "+-------------------------------------------------------------------+\n",
      "|title                                                              |\n",
      "+-------------------------------------------------------------------+\n",
      "|good harbor                                                        |\n",
      "|the unschooled wizard sun wolf and starhawk 12                     |\n",
      "|best friends forever                                               |\n",
      "|runic astrology starcraft and timekeeping in the northern tradition|\n",
      "|the aeneid for boys and girls                                      |\n",
      "|the wanting of levine                                              |\n",
      "|alls fairy in love and war avalon web of magic 8                   |\n",
      "|the devils notebook                                                |\n",
      "|crowner royal crowner john mystery 13                              |\n",
      "|the house of memory plutos snitch 2                                |\n",
      "|the te of piglet                                                   |\n",
      "|spirit lake die legende des wendigo                                |\n",
      "|the bonfire of the vanities                                        |\n",
      "|90 minutes in heaven a true story of death and life                |\n",
      "|heaven                                                             |\n",
      "|penny from heaven                                                  |\n",
      "|dog heaven                                                         |\n",
      "|glimmering light                                                   |\n",
      "|silken eyes                                                        |\n",
      "|the tommyknockers                                                  |\n",
      "+-------------------------------------------------------------------+\n",
      "only showing top 20 rows\n",
      "\n"
     ]
    }
   ],
   "source": [
    "df.select('title').show(truncate=False)"
   ]
  },
  {
   "cell_type": "code",
   "execution_count": 12,
   "id": "cc8179e2",
   "metadata": {
    "scrolled": true
   },
   "outputs": [],
   "source": [
    "### Filter using length of the column in pyspark\n",
    " \n",
    "    \n",
    "from pyspark.sql.functions import length\n",
    "df = df.where(length(col(\"title\")) > 0)"
   ]
  },
  {
   "cell_type": "markdown",
   "id": "05161f06",
   "metadata": {},
   "source": [
    " ###  Saving Cleaned data into Json File"
   ]
  },
  {
   "cell_type": "code",
   "execution_count": null,
   "id": "a380686d",
   "metadata": {},
   "outputs": [],
   "source": [
    "#Storing our dataframe into Json file format by converting it into pandas DF\n",
    "pandasDF = df.toPandas()\n",
    "#pandasDF.to_json(\"books_titles.json\")"
   ]
  },
  {
   "cell_type": "markdown",
   "id": "ff516fab",
   "metadata": {},
   "source": [
    "#  Implementing Search engine after preparing data\n"
   ]
  },
  {
   "cell_type": "markdown",
   "id": "228e22cc",
   "metadata": {},
   "source": [
    "###  Loading data into vectorizer"
   ]
  },
  {
   "cell_type": "code",
   "execution_count": null,
   "id": "c44ae06d",
   "metadata": {},
   "outputs": [],
   "source": [
    "from sklearn.feature_extraction.text import TfidfVectorizer\n",
    "vectorizer = TfidfVectorizer()\n",
    "\n",
    "tfidf = vectorizer.fit_transform(pandasDF[\"title\"])\n",
    "#tfidf = vectorizer.fit_transform(df[\"title\"])"
   ]
  },
  {
   "cell_type": "code",
   "execution_count": null,
   "id": "8b2bf959",
   "metadata": {},
   "outputs": [],
   "source": [
    "from sklearn.metrics.pairwise import cosine_similarity\n",
    "import numpy as np\n",
    "import re"
   ]
  },
  {
   "cell_type": "markdown",
   "id": "60543b8c",
   "metadata": {},
   "source": [
    "### HTML  code to show image and link of book"
   ]
  },
  {
   "cell_type": "code",
   "execution_count": null,
   "id": "62878223",
   "metadata": {},
   "outputs": [],
   "source": [
    "def clickable(val):\n",
    "    return '<a target=\"_blank\" href=\"{}\">Book_Link</a>'.format(val)\n",
    "\n",
    "def show_image(val):\n",
    "    return '<img src=\"{}\" width=50></img>'.format(val)"
   ]
  },
  {
   "cell_type": "code",
   "execution_count": null,
   "id": "08655404",
   "metadata": {},
   "outputs": [],
   "source": [
    "def search(query):\n",
    "    processed = re.sub(\"[^a-zA-Z0-9 ]\",\"\",query.lower())\n",
    "    query_vec = vectorizer.transform([processed])\n",
    "    similarity = cosine_similarity(query_vec, tfidf).flatten()\n",
    "    indices = np.argpartition(similarity,-10)[-10:]\n",
    "    results = pandasDF.iloc[indices]\n",
    "    return results.head(10).style.format({'url':clickable, 'cover_image' : show_image})"
   ]
  },
  {
   "cell_type": "markdown",
   "id": "2abb7a3b",
   "metadata": {},
   "source": [
    "##  Searching a book"
   ]
  },
  {
   "cell_type": "code",
   "execution_count": null,
   "id": "6b9b64eb",
   "metadata": {},
   "outputs": [],
   "source": [
    "res = search(\"No Excusees\")"
   ]
  },
  {
   "cell_type": "code",
   "execution_count": null,
   "id": "5f57c3e4",
   "metadata": {},
   "outputs": [],
   "source": []
  }
 ],
 "metadata": {
  "kernelspec": {
   "display_name": "Python 3 (ipykernel)",
   "language": "python",
   "name": "python3"
  },
  "language_info": {
   "codemirror_mode": {
    "name": "ipython",
    "version": 3
   },
   "file_extension": ".py",
   "mimetype": "text/x-python",
   "name": "python",
   "nbconvert_exporter": "python",
   "pygments_lexer": "ipython3",
   "version": "3.9.12"
  }
 },
 "nbformat": 4,
 "nbformat_minor": 5
}
