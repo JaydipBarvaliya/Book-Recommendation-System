{
 "cells": [
  {
   "cell_type": "code",
   "execution_count": 1,
   "id": "f94e4f80",
   "metadata": {},
   "outputs": [],
   "source": [
    "import pandas as pd"
   ]
  },
  {
   "cell_type": "markdown",
   "id": "3dbceee0",
   "metadata": {},
   "source": [
    "###  Loading data of books we like"
   ]
  },
  {
   "cell_type": "code",
   "execution_count": 2,
   "id": "fcfc4543",
   "metadata": {},
   "outputs": [],
   "source": [
    "#loading our liked books data\n",
    "my_books = pd.read_csv(\"liked_books.csv\")\n",
    "\n",
    "#typecasting book_id into string\n",
    "my_books[\"book_id\"] = my_books[\"book_id\"].astype(str)\n",
    "\n",
    "#creating set of unique book from our liked_books data\n",
    "book_set = set(my_books[\"book_id\"])\n",
    "books = len(book_set)"
   ]
  },
  {
   "cell_type": "markdown",
   "id": "0a02c438",
   "metadata": {},
   "source": [
    "#  Creating Dictionary from book_mapping dataset to create connection between two dataset"
   ]
  },
  {
   "cell_type": "code",
   "execution_count": 3,
   "id": "45500f53",
   "metadata": {},
   "outputs": [],
   "source": [
    "#creating dictionary from csv_book_mapping to connect both dataset based on this\n",
    "\n",
    "csv_book_mapping = {}\n",
    "\n",
    "with open(\"book_id_map.csv\",'r') as f:\n",
    "    while True:\n",
    "        line = f.readline()\n",
    "        \n",
    "        if not line:\n",
    "            break;\n",
    "            \n",
    "        csv_id,book_id = line.strip().split(\",\")\n",
    "        \n",
    "        csv_book_mapping[csv_id] = book_id\n"
   ]
  },
  {
   "cell_type": "markdown",
   "id": "24dbe3a8",
   "metadata": {},
   "source": [
    "## Getting all the users who have rated books which we like"
   ]
  },
  {
   "cell_type": "code",
   "execution_count": 4,
   "id": "7a4a83d0",
   "metadata": {},
   "outputs": [],
   "source": [
    "# finding all users who has read books which we have liked and rated >= 4 starts.\n",
    "overlap_users = {}\n",
    "\n",
    "#reading goodreads_interactions data in a streaming fashion\n",
    "with open(\"goodreads_interactions.csv\") as f:\n",
    "    i = 0\n",
    "    while i < 1000:\n",
    "        i +=1 \n",
    "        \n",
    "        #reading single line\n",
    "        line = f.readline()\n",
    "        if not line:\n",
    "            break;\n",
    "        \n",
    "        # splitting data by ',' and getting all the columns we care about\n",
    "        user_id, csv_id, _, rating, _ = line.strip().split(\",\")\n",
    "        \n",
    "        #converting rating into int if not possible ignore that line\n",
    "        try:\n",
    "            rating = int(rating)\n",
    "        except ValueError:\n",
    "            continue\n",
    "            \n",
    "        \n",
    "        book_id = csv_book_mapping.get(csv_id)\n",
    "        \n",
    "        \n",
    "        if book_id in book_set and rating >= 4:\n",
    "            if user_id not in overlap_users:\n",
    "                overlap_users[user_id] = 1\n",
    "            else:\n",
    "                overlap_users[user_id] += 1\n",
    "                "
   ]
  },
  {
   "cell_type": "code",
   "execution_count": 5,
   "id": "8ce9d628",
   "metadata": {},
   "outputs": [],
   "source": [
    "filtered_overlap_users = set(i for i in overlap_users if overlap_users[i] > books/2)"
   ]
  },
  {
   "cell_type": "markdown",
   "id": "e9e9cd76",
   "metadata": {},
   "source": [
    "### finding records of book ratings where only those users have rated, who has read all the books which we like\n"
   ]
  },
  {
   "cell_type": "code",
   "execution_count": 6,
   "id": "735e275a",
   "metadata": {},
   "outputs": [],
   "source": [
    "#finding records of book ratings where only those users have rated, who has read all the books which we like\n",
    "#creating records using overlap_users data\n",
    "\n",
    "rec_lines = []\n",
    "\n",
    "with open(\"goodreads_interactions.csv\", 'r') as f:\n",
    "# with open(\"new.csv\", 'r') as f:\n",
    "    i = 0\n",
    "#     while i < 1000:\n",
    "    while i<10000000:\n",
    "        i += 1\n",
    "        line = f.readline()\n",
    "        if not line:\n",
    "            break\n",
    "        user_id, csv_id, _, rating, _ = line.split(\",\")\n",
    "        \n",
    "        if user_id in overlap_users:\n",
    "            book_id = csv_book_mapping[csv_id]\n",
    "            if book_id not in book_set:\n",
    "                rec_lines.append([user_id, book_id, rating])\n",
    "        "
   ]
  },
  {
   "cell_type": "code",
   "execution_count": 17,
   "id": "67ad2390",
   "metadata": {},
   "outputs": [],
   "source": [
    "#rec_lines"
   ]
  },
  {
   "cell_type": "markdown",
   "id": "6cf725ce",
   "metadata": {},
   "source": [
    "###  Loading all those records into pandas dataframe"
   ]
  },
  {
   "cell_type": "code",
   "execution_count": 8,
   "id": "aafd2ca7",
   "metadata": {},
   "outputs": [],
   "source": [
    "import pandas as pd\n",
    "\n",
    "recs = pd.DataFrame(rec_lines, columns=[\"user_id\",\"book_id\",\"rating\"])\n",
    "#recs[\"book_id\"] = recs[\"book_id\"].astype(str)"
   ]
  },
  {
   "cell_type": "code",
   "execution_count": 20,
   "id": "140f520b",
   "metadata": {},
   "outputs": [
    {
     "name": "stdout",
     "output_type": "stream",
     "text": [
      "<class 'pandas.core.frame.DataFrame'>\n",
      "Int64Index: 0 entries\n",
      "Data columns (total 5 columns):\n",
      " #   Column       Non-Null Count  Dtype \n",
      "---  ------       --------------  ----- \n",
      " 0   book_id      0 non-null      object\n",
      " 1   cover_image  0 non-null      object\n",
      " 2   ratings      0 non-null      int64 \n",
      " 3   title        0 non-null      object\n",
      " 4   url          0 non-null      object\n",
      "dtypes: int64(1), object(4)\n",
      "memory usage: 108.0+ bytes\n"
     ]
    }
   ],
   "source": [
    "recs.info()"
   ]
  },
  {
   "cell_type": "code",
   "execution_count": 22,
   "id": "ab1cb564",
   "metadata": {},
   "outputs": [
    {
     "data": {
      "text/html": [
       "<div>\n",
       "<style scoped>\n",
       "    .dataframe tbody tr th:only-of-type {\n",
       "        vertical-align: middle;\n",
       "    }\n",
       "\n",
       "    .dataframe tbody tr th {\n",
       "        vertical-align: top;\n",
       "    }\n",
       "\n",
       "    .dataframe thead th {\n",
       "        text-align: right;\n",
       "    }\n",
       "</style>\n",
       "<table border=\"1\" class=\"dataframe\">\n",
       "  <thead>\n",
       "    <tr style=\"text-align: right;\">\n",
       "      <th></th>\n",
       "      <th>book_id</th>\n",
       "      <th>cover_image</th>\n",
       "      <th>ratings</th>\n",
       "      <th>title</th>\n",
       "      <th>url</th>\n",
       "    </tr>\n",
       "  </thead>\n",
       "  <tbody>\n",
       "  </tbody>\n",
       "</table>\n",
       "</div>"
      ],
      "text/plain": [
       "Empty DataFrame\n",
       "Columns: [book_id, cover_image, ratings, title, url]\n",
       "Index: []"
      ]
     },
     "execution_count": 22,
     "metadata": {},
     "output_type": "execute_result"
    }
   ],
   "source": [
    "recs"
   ]
  },
  {
   "cell_type": "markdown",
   "id": "248342c0",
   "metadata": {},
   "source": [
    "###  Getting top 15 books which is rated by highest number of users who rated books we likes"
   ]
  },
  {
   "cell_type": "code",
   "execution_count": 10,
   "id": "5fc274a7",
   "metadata": {},
   "outputs": [],
   "source": [
    "top_recs = recs[\"book_id\"].value_counts().head(15)\n",
    "# top_recs = top_recs.index.to_list()\n"
   ]
  },
  {
   "cell_type": "code",
   "execution_count": 23,
   "id": "3e97ae91",
   "metadata": {},
   "outputs": [
    {
     "data": {
      "text/plain": [
       "12          1\n",
       "8622058     1\n",
       "13531802    1\n",
       "3977        1\n",
       "15793509    1\n",
       "6486483     1\n",
       "15801967    1\n",
       "10294362    1\n",
       "16071764    1\n",
       "2819368     1\n",
       "143718      1\n",
       "349419      1\n",
       "809849      1\n",
       "16033093    1\n",
       "99219       1\n",
       "Name: book_id, dtype: int64"
      ]
     },
     "execution_count": 23,
     "metadata": {},
     "output_type": "execute_result"
    }
   ],
   "source": [
    "top_recs"
   ]
  },
  {
   "cell_type": "markdown",
   "id": "815a199b",
   "metadata": {},
   "source": [
    "###  loading data from books_titles.json files and printing all the top records data from this json file"
   ]
  },
  {
   "cell_type": "code",
   "execution_count": 12,
   "id": "2549e7f7",
   "metadata": {},
   "outputs": [],
   "source": [
    "book_titles = pd.read_json(\"books_titles.json\")\n",
    "book_titles[\"book_id\"] = book_titles[\"book_id\"].astype(str)"
   ]
  },
  {
   "cell_type": "code",
   "execution_count": 13,
   "id": "0bab8c12",
   "metadata": {},
   "outputs": [],
   "source": [
    "def clickable(val):\n",
    "    return '<a target=\"_blank\" href=\"{}\">book Link</a>'.format(val)\n",
    "\n",
    "def show_image(val):\n",
    "    return '<img src=\"{}\" width=50></img>'.format(val)"
   ]
  },
  {
   "cell_type": "code",
   "execution_count": 14,
   "id": "ff8e6233",
   "metadata": {},
   "outputs": [
    {
     "data": {
      "text/html": [
       "<style type=\"text/css\">\n",
       "</style>\n",
       "<table id=\"T_caf2e\">\n",
       "  <thead>\n",
       "    <tr>\n",
       "      <th class=\"blank level0\" >&nbsp;</th>\n",
       "      <th id=\"T_caf2e_level0_col0\" class=\"col_heading level0 col0\" >book_id</th>\n",
       "      <th id=\"T_caf2e_level0_col1\" class=\"col_heading level0 col1\" >cover_image</th>\n",
       "      <th id=\"T_caf2e_level0_col2\" class=\"col_heading level0 col2\" >ratings</th>\n",
       "      <th id=\"T_caf2e_level0_col3\" class=\"col_heading level0 col3\" >title</th>\n",
       "      <th id=\"T_caf2e_level0_col4\" class=\"col_heading level0 col4\" >url</th>\n",
       "    </tr>\n",
       "  </thead>\n",
       "  <tbody>\n",
       "    <tr>\n",
       "      <th id=\"T_caf2e_level0_row0\" class=\"row_heading level0 row0\" >0</th>\n",
       "      <td id=\"T_caf2e_row0_col0\" class=\"data row0 col0\" >1333909</td>\n",
       "      <td id=\"T_caf2e_row0_col1\" class=\"data row0 col1\" ><img src=\"https://s.gr-assets.com/assets/nophoto/book/111x148-bcc042a9c91a29c1d680899eff700a03.png\" width=50></img></td>\n",
       "      <td id=\"T_caf2e_row0_col2\" class=\"data row0 col2\" >10</td>\n",
       "      <td id=\"T_caf2e_row0_col3\" class=\"data row0 col3\" >good harbor</td>\n",
       "      <td id=\"T_caf2e_row0_col4\" class=\"data row0 col4\" ><a target=\"_blank\" href=\"https://www.goodreads.com/book/show/1333909.Good_Harbor\">book Link</a></td>\n",
       "    </tr>\n",
       "    <tr>\n",
       "      <th id=\"T_caf2e_level0_row1\" class=\"row_heading level0 row1\" >1</th>\n",
       "      <td id=\"T_caf2e_row1_col0\" class=\"data row1 col0\" >7327624</td>\n",
       "      <td id=\"T_caf2e_row1_col1\" class=\"data row1 col1\" ><img src=\"https://images.gr-assets.com/books/1304100136m/7327624.jpg\" width=50></img></td>\n",
       "      <td id=\"T_caf2e_row1_col2\" class=\"data row1 col2\" >140</td>\n",
       "      <td id=\"T_caf2e_row1_col3\" class=\"data row1 col3\" >the unschooled wizard sun wolf and starhawk 12</td>\n",
       "      <td id=\"T_caf2e_row1_col4\" class=\"data row1 col4\" ><a target=\"_blank\" href=\"https://www.goodreads.com/book/show/7327624-the-unschooled-wizard\">book Link</a></td>\n",
       "    </tr>\n",
       "    <tr>\n",
       "      <th id=\"T_caf2e_level0_row2\" class=\"row_heading level0 row2\" >2</th>\n",
       "      <td id=\"T_caf2e_row2_col0\" class=\"data row2 col0\" >6066819</td>\n",
       "      <td id=\"T_caf2e_row2_col1\" class=\"data row2 col1\" ><img src=\"https://s.gr-assets.com/assets/nophoto/book/111x148-bcc042a9c91a29c1d680899eff700a03.png\" width=50></img></td>\n",
       "      <td id=\"T_caf2e_row2_col2\" class=\"data row2 col2\" >51184</td>\n",
       "      <td id=\"T_caf2e_row2_col3\" class=\"data row2 col3\" >best friends forever</td>\n",
       "      <td id=\"T_caf2e_row2_col4\" class=\"data row2 col4\" ><a target=\"_blank\" href=\"https://www.goodreads.com/book/show/6066819-best-friends-forever\">book Link</a></td>\n",
       "    </tr>\n",
       "    <tr>\n",
       "      <th id=\"T_caf2e_level0_row3\" class=\"row_heading level0 row3\" >3</th>\n",
       "      <td id=\"T_caf2e_row3_col0\" class=\"data row3 col0\" >287140</td>\n",
       "      <td id=\"T_caf2e_row3_col1\" class=\"data row3 col1\" ><img src=\"https://images.gr-assets.com/books/1413219371m/287140.jpg\" width=50></img></td>\n",
       "      <td id=\"T_caf2e_row3_col2\" class=\"data row3 col2\" >15</td>\n",
       "      <td id=\"T_caf2e_row3_col3\" class=\"data row3 col3\" >runic astrology starcraft and timekeeping in the northern tradition</td>\n",
       "      <td id=\"T_caf2e_row3_col4\" class=\"data row3 col4\" ><a target=\"_blank\" href=\"https://www.goodreads.com/book/show/287140.Runic_Astrology\">book Link</a></td>\n",
       "    </tr>\n",
       "    <tr>\n",
       "      <th id=\"T_caf2e_level0_row4\" class=\"row_heading level0 row4\" >4</th>\n",
       "      <td id=\"T_caf2e_row4_col0\" class=\"data row4 col0\" >287141</td>\n",
       "      <td id=\"T_caf2e_row4_col1\" class=\"data row4 col1\" ><img src=\"https://s.gr-assets.com/assets/nophoto/book/111x148-bcc042a9c91a29c1d680899eff700a03.png\" width=50></img></td>\n",
       "      <td id=\"T_caf2e_row4_col2\" class=\"data row4 col2\" >46</td>\n",
       "      <td id=\"T_caf2e_row4_col3\" class=\"data row4 col3\" >the aeneid for boys and girls</td>\n",
       "      <td id=\"T_caf2e_row4_col4\" class=\"data row4 col4\" ><a target=\"_blank\" href=\"https://www.goodreads.com/book/show/287141.The_Aeneid_for_Boys_and_Girls\">book Link</a></td>\n",
       "    </tr>\n",
       "    <tr>\n",
       "      <th id=\"T_caf2e_level0_row5\" class=\"row_heading level0 row5\" >5</th>\n",
       "      <td id=\"T_caf2e_row5_col0\" class=\"data row5 col0\" >378460</td>\n",
       "      <td id=\"T_caf2e_row5_col1\" class=\"data row5 col1\" ><img src=\"https://s.gr-assets.com/assets/nophoto/book/111x148-bcc042a9c91a29c1d680899eff700a03.png\" width=50></img></td>\n",
       "      <td id=\"T_caf2e_row5_col2\" class=\"data row5 col2\" >12</td>\n",
       "      <td id=\"T_caf2e_row5_col3\" class=\"data row5 col3\" >the wanting of levine</td>\n",
       "      <td id=\"T_caf2e_row5_col4\" class=\"data row5 col4\" ><a target=\"_blank\" href=\"https://www.goodreads.com/book/show/378460.The_Wanting_of_Levine\">book Link</a></td>\n",
       "    </tr>\n",
       "    <tr>\n",
       "      <th id=\"T_caf2e_level0_row6\" class=\"row_heading level0 row6\" >6</th>\n",
       "      <td id=\"T_caf2e_row6_col0\" class=\"data row6 col0\" >6066812</td>\n",
       "      <td id=\"T_caf2e_row6_col1\" class=\"data row6 col1\" ><img src=\"https://images.gr-assets.com/books/1316637798m/6066812.jpg\" width=50></img></td>\n",
       "      <td id=\"T_caf2e_row6_col2\" class=\"data row6 col2\" >98</td>\n",
       "      <td id=\"T_caf2e_row6_col3\" class=\"data row6 col3\" >alls fairy in love and war avalon web of magic 8</td>\n",
       "      <td id=\"T_caf2e_row6_col4\" class=\"data row6 col4\" ><a target=\"_blank\" href=\"https://www.goodreads.com/book/show/6066812-all-s-fairy-in-love-and-war\">book Link</a></td>\n",
       "    </tr>\n",
       "    <tr>\n",
       "      <th id=\"T_caf2e_level0_row7\" class=\"row_heading level0 row7\" >7</th>\n",
       "      <td id=\"T_caf2e_row7_col0\" class=\"data row7 col0\" >287149</td>\n",
       "      <td id=\"T_caf2e_row7_col1\" class=\"data row7 col1\" ><img src=\"https://images.gr-assets.com/books/1328768789m/287149.jpg\" width=50></img></td>\n",
       "      <td id=\"T_caf2e_row7_col2\" class=\"data row7 col2\" >986</td>\n",
       "      <td id=\"T_caf2e_row7_col3\" class=\"data row7 col3\" >the devils notebook</td>\n",
       "      <td id=\"T_caf2e_row7_col4\" class=\"data row7 col4\" ><a target=\"_blank\" href=\"https://www.goodreads.com/book/show/287149.The_Devil_s_Notebook\">book Link</a></td>\n",
       "    </tr>\n",
       "    <tr>\n",
       "      <th id=\"T_caf2e_level0_row8\" class=\"row_heading level0 row8\" >8</th>\n",
       "      <td id=\"T_caf2e_row8_col0\" class=\"data row8 col0\" >6066814</td>\n",
       "      <td id=\"T_caf2e_row8_col1\" class=\"data row8 col1\" ><img src=\"https://images.gr-assets.com/books/1328724803m/6066814.jpg\" width=50></img></td>\n",
       "      <td id=\"T_caf2e_row8_col2\" class=\"data row8 col2\" >186</td>\n",
       "      <td id=\"T_caf2e_row8_col3\" class=\"data row8 col3\" >crowner royal crowner john mystery 13</td>\n",
       "      <td id=\"T_caf2e_row8_col4\" class=\"data row8 col4\" ><a target=\"_blank\" href=\"https://www.goodreads.com/book/show/6066814-crowner-royal\">book Link</a></td>\n",
       "    </tr>\n",
       "    <tr>\n",
       "      <th id=\"T_caf2e_level0_row9\" class=\"row_heading level0 row9\" >9</th>\n",
       "      <td id=\"T_caf2e_row9_col0\" class=\"data row9 col0\" >33394837</td>\n",
       "      <td id=\"T_caf2e_row9_col1\" class=\"data row9 col1\" ><img src=\"https://images.gr-assets.com/books/1493114742m/33394837.jpg\" width=50></img></td>\n",
       "      <td id=\"T_caf2e_row9_col2\" class=\"data row9 col2\" >269</td>\n",
       "      <td id=\"T_caf2e_row9_col3\" class=\"data row9 col3\" >the house of memory plutos snitch 2</td>\n",
       "      <td id=\"T_caf2e_row9_col4\" class=\"data row9 col4\" ><a target=\"_blank\" href=\"https://www.goodreads.com/book/show/33394837-the-house-of-memory\">book Link</a></td>\n",
       "    </tr>\n",
       "  </tbody>\n",
       "</table>\n"
      ],
      "text/plain": [
       "<pandas.io.formats.style.Styler at 0x2515cec78b0>"
      ]
     },
     "execution_count": 14,
     "metadata": {},
     "output_type": "execute_result"
    }
   ],
   "source": [
    "book_titles.head(10).style.format({'url':clickable, 'cover_image' : show_image})"
   ]
  },
  {
   "cell_type": "code",
   "execution_count": 15,
   "id": "e8ef5b40",
   "metadata": {},
   "outputs": [
    {
     "data": {
      "text/plain": [
       "0"
      ]
     },
     "execution_count": 15,
     "metadata": {},
     "output_type": "execute_result"
    }
   ],
   "source": [
    "recs = book_titles[book_titles[\"book_id\"].isin(top_recs)] \n",
    "len(recs)"
   ]
  },
  {
   "cell_type": "markdown",
   "id": "1146320f",
   "metadata": {},
   "source": [
    "# top recommended books for us"
   ]
  },
  {
   "cell_type": "code",
   "execution_count": 16,
   "id": "b30db3a1",
   "metadata": {},
   "outputs": [
    {
     "data": {
      "text/html": [
       "<style type=\"text/css\">\n",
       "</style>\n",
       "<table id=\"T_ef6b7\">\n",
       "  <thead>\n",
       "    <tr>\n",
       "      <th class=\"blank level0\" >&nbsp;</th>\n",
       "      <th id=\"T_ef6b7_level0_col0\" class=\"col_heading level0 col0\" >book_id</th>\n",
       "      <th id=\"T_ef6b7_level0_col1\" class=\"col_heading level0 col1\" >cover_image</th>\n",
       "      <th id=\"T_ef6b7_level0_col2\" class=\"col_heading level0 col2\" >ratings</th>\n",
       "      <th id=\"T_ef6b7_level0_col3\" class=\"col_heading level0 col3\" >title</th>\n",
       "      <th id=\"T_ef6b7_level0_col4\" class=\"col_heading level0 col4\" >url</th>\n",
       "    </tr>\n",
       "  </thead>\n",
       "  <tbody>\n",
       "  </tbody>\n",
       "</table>\n"
      ],
      "text/plain": [
       "<pandas.io.formats.style.Styler at 0x2515cec7040>"
      ]
     },
     "execution_count": 16,
     "metadata": {},
     "output_type": "execute_result"
    }
   ],
   "source": [
    "recs.style.format({'url':clickable, 'cover_image' : show_image})"
   ]
  },
  {
   "cell_type": "code",
   "execution_count": null,
   "id": "4a67c6fb",
   "metadata": {},
   "outputs": [],
   "source": []
  }
 ],
 "metadata": {
  "kernelspec": {
   "display_name": "Python 3 (ipykernel)",
   "language": "python",
   "name": "python3"
  },
  "language_info": {
   "codemirror_mode": {
    "name": "ipython",
    "version": 3
   },
   "file_extension": ".py",
   "mimetype": "text/x-python",
   "name": "python",
   "nbconvert_exporter": "python",
   "pygments_lexer": "ipython3",
   "version": "3.9.12"
  }
 },
 "nbformat": 4,
 "nbformat_minor": 5
}
